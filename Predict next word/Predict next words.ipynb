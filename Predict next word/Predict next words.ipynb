{
 "cells": [
  {
   "cell_type": "code",
   "execution_count": 1,
   "metadata": {},
   "outputs": [],
   "source": [
    "import re\n",
    "import collections\n",
    "import pandas as pd\n",
    "import numpy as np\n",
    "import nltk\n",
    "from nltk.util import ngrams\n",
    "from nltk.corpus import gutenberg"
   ]
  },
  {
   "cell_type": "code",
   "execution_count": 2,
   "metadata": {},
   "outputs": [],
   "source": [
    "# I am using Alice in wonderland book\n",
    "text = gutenberg.raw(fileids='carroll-alice.txt')"
   ]
  },
  {
   "cell_type": "code",
   "execution_count": 3,
   "metadata": {},
   "outputs": [],
   "source": [
    "def bi_grams_model(text):\n",
    "    \"\"\" the function takes the text as an input & returns bigrams\"\"\"\n",
    "    # tokenise text\n",
    "    words = nltk.word_tokenize(text)\n",
    "    # create bi_gram list\n",
    "    bi_grams = list(ngrams(words, 2))\n",
    "    return bi_grams"
   ]
  },
  {
   "cell_type": "code",
   "execution_count": 50,
   "metadata": {},
   "outputs": [],
   "source": [
    "def frequency(text):\n",
    "    \"\"\"\n",
    "    the function creates a dictionry from bi_gram model.\n",
    "    where each word in the text is a key, \n",
    "    and the value is a dictionary of the words that follow this word and their probabilities of coming\n",
    "    \"\"\"\n",
    "    \n",
    "    bi_grams = bi_grams_model(text) \n",
    "    \n",
    "    # create from a bi_gram list a dictionary where each word is the key and its value is the words that are coming after them\n",
    "    # collections.defaultdict: group a sequence of key-value pairs into a dictionary of lists\n",
    "    dict_bi_grams = collections.defaultdict(list)\n",
    "    for key, value in bi_grams:\n",
    "        dict_bi_grams[key].append(value)\n",
    "        \n",
    "    # get the frequency that word(i-1) & word(i) occur together\n",
    "    dict_freq = {}\n",
    "    for key in dict_bi_grams:\n",
    "        val = dict_bi_grams[key]\n",
    "        dict_freq[key] = collections.Counter(val)\n",
    " \n",
    "    # get word counts\n",
    "    word_counts = collections.Counter(nltk.word_tokenize(text))\n",
    "    # Calculate N-grams probability by dividing the frequency that word(i-1) & word(i) occur together by the total count of word(i-1)\n",
    "    for key, val in dict_freq.items():\n",
    "        counts = word_counts[key]\n",
    "        # Get rid of collections.Counter calss\n",
    "        x = dict(val)\n",
    "        for i, j in x.items():\n",
    "            x[i] = j/counts\n",
    "        dict_freq[key] = x\n",
    "\n",
    "    return dict_freq"
   ]
  },
  {
   "cell_type": "code",
   "execution_count": 114,
   "metadata": {},
   "outputs": [],
   "source": [
    "def predict(word):\n",
    "    \"\"\" the function gives prediction to the next word.\n",
    "        if the word not in the lyrics, it'll give a message saying 'Word not found'\n",
    "    \"\"\"\n",
    "    words_freq = frequency(text)\n",
    "    if word not in words_freq.keys():\n",
    "        return 'Word not found'\n",
    "    \n",
    "    else:\n",
    "        # convert dictionary to a series\n",
    "        words = words_freq[word]\n",
    "        words = pd.Series(words)\n",
    "        # get words with the max probability \n",
    "        predicted = words.sort_values(ascending=False)[:3].index\n",
    "    return print('Next word is:\\n', predicted[0], '\\n', predicted[1], '\\n', predicted[2])"
   ]
  },
  {
   "cell_type": "code",
   "execution_count": 115,
   "metadata": {},
   "outputs": [
    {
     "name": "stdout",
     "output_type": "stream",
     "text": [
      "Next word is:\n",
      " was \n",
      " 's \n",
      " were\n"
     ]
    }
   ],
   "source": [
    "predict('there')"
   ]
  },
  {
   "cell_type": "code",
   "execution_count": null,
   "metadata": {},
   "outputs": [],
   "source": []
  }
 ],
 "metadata": {
  "kernelspec": {
   "display_name": "mykernel",
   "language": "python",
   "name": "mykernel"
  },
  "language_info": {
   "codemirror_mode": {
    "name": "ipython",
    "version": 3
   },
   "file_extension": ".py",
   "mimetype": "text/x-python",
   "name": "python",
   "nbconvert_exporter": "python",
   "pygments_lexer": "ipython3",
   "version": "3.7.3"
  }
 },
 "nbformat": 4,
 "nbformat_minor": 2
}
